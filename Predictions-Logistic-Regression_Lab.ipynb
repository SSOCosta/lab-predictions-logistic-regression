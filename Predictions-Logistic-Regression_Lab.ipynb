{
 "cells": [
  {
   "cell_type": "code",
   "execution_count": 1,
   "id": "e5bd5163",
   "metadata": {},
   "outputs": [
    {
     "name": "stdout",
     "output_type": "stream",
     "text": [
      "········\n"
     ]
    }
   ],
   "source": [
    "# Importing necessary libraries\n",
    "import pymysql\n",
    "from sqlalchemy import create_engine\n",
    "import pandas as pd\n",
    "import getpass  # To get the password without showing the input\n",
    "password = getpass.getpass()"
   ]
  },
  {
   "cell_type": "code",
   "execution_count": 2,
   "id": "243eeb25",
   "metadata": {},
   "outputs": [
    {
     "data": {
      "text/html": [
       "<div>\n",
       "<style scoped>\n",
       "    .dataframe tbody tr th:only-of-type {\n",
       "        vertical-align: middle;\n",
       "    }\n",
       "\n",
       "    .dataframe tbody tr th {\n",
       "        vertical-align: top;\n",
       "    }\n",
       "\n",
       "    .dataframe thead th {\n",
       "        text-align: right;\n",
       "    }\n",
       "</style>\n",
       "<table border=\"1\" class=\"dataframe\">\n",
       "  <thead>\n",
       "    <tr style=\"text-align: right;\">\n",
       "      <th></th>\n",
       "      <th>film_id</th>\n",
       "      <th>language_id</th>\n",
       "      <th>rental_rate</th>\n",
       "      <th>length</th>\n",
       "      <th>rating</th>\n",
       "      <th>special_features</th>\n",
       "      <th>category_id</th>\n",
       "      <th>num_rentals</th>\n",
       "    </tr>\n",
       "  </thead>\n",
       "  <tbody>\n",
       "    <tr>\n",
       "      <th>0</th>\n",
       "      <td>1</td>\n",
       "      <td>1</td>\n",
       "      <td>0.99</td>\n",
       "      <td>86</td>\n",
       "      <td>PG</td>\n",
       "      <td>Deleted Scenes,Behind the Scenes</td>\n",
       "      <td>6</td>\n",
       "      <td>23</td>\n",
       "    </tr>\n",
       "    <tr>\n",
       "      <th>1</th>\n",
       "      <td>2</td>\n",
       "      <td>1</td>\n",
       "      <td>4.99</td>\n",
       "      <td>48</td>\n",
       "      <td>G</td>\n",
       "      <td>Trailers,Deleted Scenes</td>\n",
       "      <td>11</td>\n",
       "      <td>7</td>\n",
       "    </tr>\n",
       "    <tr>\n",
       "      <th>2</th>\n",
       "      <td>3</td>\n",
       "      <td>1</td>\n",
       "      <td>2.99</td>\n",
       "      <td>50</td>\n",
       "      <td>NC-17</td>\n",
       "      <td>Trailers,Deleted Scenes</td>\n",
       "      <td>6</td>\n",
       "      <td>12</td>\n",
       "    </tr>\n",
       "    <tr>\n",
       "      <th>3</th>\n",
       "      <td>4</td>\n",
       "      <td>1</td>\n",
       "      <td>2.99</td>\n",
       "      <td>117</td>\n",
       "      <td>G</td>\n",
       "      <td>Commentaries,Behind the Scenes</td>\n",
       "      <td>11</td>\n",
       "      <td>23</td>\n",
       "    </tr>\n",
       "    <tr>\n",
       "      <th>4</th>\n",
       "      <td>5</td>\n",
       "      <td>1</td>\n",
       "      <td>2.99</td>\n",
       "      <td>130</td>\n",
       "      <td>G</td>\n",
       "      <td>Deleted Scenes</td>\n",
       "      <td>8</td>\n",
       "      <td>12</td>\n",
       "    </tr>\n",
       "  </tbody>\n",
       "</table>\n",
       "</div>"
      ],
      "text/plain": [
       "   film_id  language_id  rental_rate  length rating  \\\n",
       "0        1            1         0.99      86     PG   \n",
       "1        2            1         4.99      48      G   \n",
       "2        3            1         2.99      50  NC-17   \n",
       "3        4            1         2.99     117      G   \n",
       "4        5            1         2.99     130      G   \n",
       "\n",
       "                   special_features  category_id  num_rentals  \n",
       "0  Deleted Scenes,Behind the Scenes            6           23  \n",
       "1           Trailers,Deleted Scenes           11            7  \n",
       "2           Trailers,Deleted Scenes            6           12  \n",
       "3    Commentaries,Behind the Scenes           11           23  \n",
       "4                    Deleted Scenes            8           12  "
      ]
     },
     "execution_count": 2,
     "metadata": {},
     "output_type": "execute_result"
    }
   ],
   "source": [
    "# Stablishing connection and creating engine with Mysql \n",
    "connection_string = 'mysql+pymysql://root:' + password + '@localhost/sakila'\n",
    "engine = create_engine(connection_string)\n",
    "query = '''SELECT f.film_id, f.language_id, f.rental_rate, f.length, f.rating, f.special_features,fc.category_id, COUNT(r.rental_date) AS num_rentals\n",
    "FROM sakila.film AS f\n",
    "LEFT JOIN sakila.film_category as fc USING (film_id)\n",
    "LEFT JOIN inventory AS i USING (film_id)\n",
    "LEFT JOIN rental AS r USING (inventory_id)\n",
    "GROUP BY f.film_id, fc.category_id;'''\n",
    "data = pd.read_sql_query(query, engine)\n",
    "data.head()"
   ]
  },
  {
   "cell_type": "code",
   "execution_count": 3,
   "id": "578e1593",
   "metadata": {},
   "outputs": [
    {
     "data": {
      "text/plain": [
       "(1000, 8)"
      ]
     },
     "execution_count": 3,
     "metadata": {},
     "output_type": "execute_result"
    }
   ],
   "source": [
    "# Checking for the shape\n",
    "data.shape"
   ]
  },
  {
   "cell_type": "code",
   "execution_count": 4,
   "id": "58d2678f",
   "metadata": {},
   "outputs": [
    {
     "name": "stdout",
     "output_type": "stream",
     "text": [
      "Number of unique film titles: 1000\n"
     ]
    }
   ],
   "source": [
    "# Checking the for the unique film titles and confirming the 1000 rows expected\n",
    "unique_film_titles_count = data['film_id'].nunique()\n",
    "print(f\"Number of unique film titles: {unique_film_titles_count}\")"
   ]
  },
  {
   "cell_type": "code",
   "execution_count": 5,
   "id": "a08b4173",
   "metadata": {},
   "outputs": [
    {
     "name": "stdout",
     "output_type": "stream",
     "text": [
      "Number of duplicate records: 0\n"
     ]
    }
   ],
   "source": [
    "# Check the number of duplicates\n",
    "duplicate_count = data.duplicated().sum()\n",
    "print(f\"Number of duplicate records: {duplicate_count}\")"
   ]
  },
  {
   "cell_type": "code",
   "execution_count": 6,
   "id": "1b16bfae",
   "metadata": {},
   "outputs": [
    {
     "data": {
      "text/html": [
       "<div>\n",
       "<style scoped>\n",
       "    .dataframe tbody tr th:only-of-type {\n",
       "        vertical-align: middle;\n",
       "    }\n",
       "\n",
       "    .dataframe tbody tr th {\n",
       "        vertical-align: top;\n",
       "    }\n",
       "\n",
       "    .dataframe thead th {\n",
       "        text-align: right;\n",
       "    }\n",
       "</style>\n",
       "<table border=\"1\" class=\"dataframe\">\n",
       "  <thead>\n",
       "    <tr style=\"text-align: right;\">\n",
       "      <th></th>\n",
       "      <th>film_id</th>\n",
       "      <th>availability_status</th>\n",
       "    </tr>\n",
       "  </thead>\n",
       "  <tbody>\n",
       "    <tr>\n",
       "      <th>0</th>\n",
       "      <td>1</td>\n",
       "      <td>Available</td>\n",
       "    </tr>\n",
       "    <tr>\n",
       "      <th>1</th>\n",
       "      <td>2</td>\n",
       "      <td>Available</td>\n",
       "    </tr>\n",
       "    <tr>\n",
       "      <th>2</th>\n",
       "      <td>3</td>\n",
       "      <td>Available</td>\n",
       "    </tr>\n",
       "    <tr>\n",
       "      <th>3</th>\n",
       "      <td>4</td>\n",
       "      <td>Available</td>\n",
       "    </tr>\n",
       "    <tr>\n",
       "      <th>4</th>\n",
       "      <td>5</td>\n",
       "      <td>Available</td>\n",
       "    </tr>\n",
       "  </tbody>\n",
       "</table>\n",
       "</div>"
      ],
      "text/plain": [
       "   film_id availability_status\n",
       "0        1           Available\n",
       "1        2           Available\n",
       "2        3           Available\n",
       "3        4           Available\n",
       "4        5           Available"
      ]
     },
     "execution_count": 6,
     "metadata": {},
     "output_type": "execute_result"
    }
   ],
   "source": [
    "# Checking for film availability _ new query\n",
    "query1 ='''SELECT DISTINCT f.film_id AS film_id,\n",
    "CASE\n",
    "WHEN IFNULL(i.inventory_id, 0) = 0 THEN 'NOT available'\n",
    "ELSE 'Available'\n",
    "END AS availability_status\n",
    "FROM sakila.film AS f\n",
    "LEFT JOIN sakila.inventory AS i\n",
    "ON f.film_id = i.film_id;'''\n",
    "\n",
    "data1 = pd.read_sql_query(query1, engine)\n",
    "data1.head()"
   ]
  },
  {
   "cell_type": "code",
   "execution_count": 7,
   "id": "3973155a",
   "metadata": {},
   "outputs": [
    {
     "data": {
      "text/html": [
       "<div>\n",
       "<style scoped>\n",
       "    .dataframe tbody tr th:only-of-type {\n",
       "        vertical-align: middle;\n",
       "    }\n",
       "\n",
       "    .dataframe tbody tr th {\n",
       "        vertical-align: top;\n",
       "    }\n",
       "\n",
       "    .dataframe thead th {\n",
       "        text-align: right;\n",
       "    }\n",
       "</style>\n",
       "<table border=\"1\" class=\"dataframe\">\n",
       "  <thead>\n",
       "    <tr style=\"text-align: right;\">\n",
       "      <th></th>\n",
       "      <th>film_id</th>\n",
       "      <th>language_id</th>\n",
       "      <th>rental_rate</th>\n",
       "      <th>length</th>\n",
       "      <th>rating</th>\n",
       "      <th>special_features</th>\n",
       "      <th>category_id</th>\n",
       "      <th>num_rentals</th>\n",
       "      <th>availability_status</th>\n",
       "    </tr>\n",
       "  </thead>\n",
       "  <tbody>\n",
       "    <tr>\n",
       "      <th>0</th>\n",
       "      <td>1</td>\n",
       "      <td>1</td>\n",
       "      <td>0.99</td>\n",
       "      <td>86</td>\n",
       "      <td>PG</td>\n",
       "      <td>Deleted Scenes,Behind the Scenes</td>\n",
       "      <td>6</td>\n",
       "      <td>23</td>\n",
       "      <td>Available</td>\n",
       "    </tr>\n",
       "    <tr>\n",
       "      <th>1</th>\n",
       "      <td>2</td>\n",
       "      <td>1</td>\n",
       "      <td>4.99</td>\n",
       "      <td>48</td>\n",
       "      <td>G</td>\n",
       "      <td>Trailers,Deleted Scenes</td>\n",
       "      <td>11</td>\n",
       "      <td>7</td>\n",
       "      <td>Available</td>\n",
       "    </tr>\n",
       "    <tr>\n",
       "      <th>2</th>\n",
       "      <td>3</td>\n",
       "      <td>1</td>\n",
       "      <td>2.99</td>\n",
       "      <td>50</td>\n",
       "      <td>NC-17</td>\n",
       "      <td>Trailers,Deleted Scenes</td>\n",
       "      <td>6</td>\n",
       "      <td>12</td>\n",
       "      <td>Available</td>\n",
       "    </tr>\n",
       "    <tr>\n",
       "      <th>3</th>\n",
       "      <td>4</td>\n",
       "      <td>1</td>\n",
       "      <td>2.99</td>\n",
       "      <td>117</td>\n",
       "      <td>G</td>\n",
       "      <td>Commentaries,Behind the Scenes</td>\n",
       "      <td>11</td>\n",
       "      <td>23</td>\n",
       "      <td>Available</td>\n",
       "    </tr>\n",
       "    <tr>\n",
       "      <th>4</th>\n",
       "      <td>5</td>\n",
       "      <td>1</td>\n",
       "      <td>2.99</td>\n",
       "      <td>130</td>\n",
       "      <td>G</td>\n",
       "      <td>Deleted Scenes</td>\n",
       "      <td>8</td>\n",
       "      <td>12</td>\n",
       "      <td>Available</td>\n",
       "    </tr>\n",
       "    <tr>\n",
       "      <th>...</th>\n",
       "      <td>...</td>\n",
       "      <td>...</td>\n",
       "      <td>...</td>\n",
       "      <td>...</td>\n",
       "      <td>...</td>\n",
       "      <td>...</td>\n",
       "      <td>...</td>\n",
       "      <td>...</td>\n",
       "      <td>...</td>\n",
       "    </tr>\n",
       "    <tr>\n",
       "      <th>995</th>\n",
       "      <td>996</td>\n",
       "      <td>1</td>\n",
       "      <td>0.99</td>\n",
       "      <td>183</td>\n",
       "      <td>G</td>\n",
       "      <td>Trailers,Behind the Scenes</td>\n",
       "      <td>6</td>\n",
       "      <td>7</td>\n",
       "      <td>Available</td>\n",
       "    </tr>\n",
       "    <tr>\n",
       "      <th>996</th>\n",
       "      <td>997</td>\n",
       "      <td>1</td>\n",
       "      <td>0.99</td>\n",
       "      <td>179</td>\n",
       "      <td>NC-17</td>\n",
       "      <td>Trailers,Behind the Scenes</td>\n",
       "      <td>12</td>\n",
       "      <td>6</td>\n",
       "      <td>Available</td>\n",
       "    </tr>\n",
       "    <tr>\n",
       "      <th>997</th>\n",
       "      <td>998</td>\n",
       "      <td>1</td>\n",
       "      <td>0.99</td>\n",
       "      <td>105</td>\n",
       "      <td>NC-17</td>\n",
       "      <td>Deleted Scenes</td>\n",
       "      <td>11</td>\n",
       "      <td>9</td>\n",
       "      <td>Available</td>\n",
       "    </tr>\n",
       "    <tr>\n",
       "      <th>998</th>\n",
       "      <td>999</td>\n",
       "      <td>1</td>\n",
       "      <td>2.99</td>\n",
       "      <td>101</td>\n",
       "      <td>R</td>\n",
       "      <td>Trailers,Deleted Scenes</td>\n",
       "      <td>3</td>\n",
       "      <td>17</td>\n",
       "      <td>Available</td>\n",
       "    </tr>\n",
       "    <tr>\n",
       "      <th>999</th>\n",
       "      <td>1000</td>\n",
       "      <td>1</td>\n",
       "      <td>4.99</td>\n",
       "      <td>50</td>\n",
       "      <td>NC-17</td>\n",
       "      <td>Trailers,Commentaries,Behind the Scenes</td>\n",
       "      <td>5</td>\n",
       "      <td>31</td>\n",
       "      <td>Available</td>\n",
       "    </tr>\n",
       "  </tbody>\n",
       "</table>\n",
       "<p>1000 rows × 9 columns</p>\n",
       "</div>"
      ],
      "text/plain": [
       "     film_id  language_id  rental_rate  length rating  \\\n",
       "0          1            1         0.99      86     PG   \n",
       "1          2            1         4.99      48      G   \n",
       "2          3            1         2.99      50  NC-17   \n",
       "3          4            1         2.99     117      G   \n",
       "4          5            1         2.99     130      G   \n",
       "..       ...          ...          ...     ...    ...   \n",
       "995      996            1         0.99     183      G   \n",
       "996      997            1         0.99     179  NC-17   \n",
       "997      998            1         0.99     105  NC-17   \n",
       "998      999            1         2.99     101      R   \n",
       "999     1000            1         4.99      50  NC-17   \n",
       "\n",
       "                            special_features  category_id  num_rentals  \\\n",
       "0           Deleted Scenes,Behind the Scenes            6           23   \n",
       "1                    Trailers,Deleted Scenes           11            7   \n",
       "2                    Trailers,Deleted Scenes            6           12   \n",
       "3             Commentaries,Behind the Scenes           11           23   \n",
       "4                             Deleted Scenes            8           12   \n",
       "..                                       ...          ...          ...   \n",
       "995               Trailers,Behind the Scenes            6            7   \n",
       "996               Trailers,Behind the Scenes           12            6   \n",
       "997                           Deleted Scenes           11            9   \n",
       "998                  Trailers,Deleted Scenes            3           17   \n",
       "999  Trailers,Commentaries,Behind the Scenes            5           31   \n",
       "\n",
       "    availability_status  \n",
       "0             Available  \n",
       "1             Available  \n",
       "2             Available  \n",
       "3             Available  \n",
       "4             Available  \n",
       "..                  ...  \n",
       "995           Available  \n",
       "996           Available  \n",
       "997           Available  \n",
       "998           Available  \n",
       "999           Available  \n",
       "\n",
       "[1000 rows x 9 columns]"
      ]
     },
     "execution_count": 7,
     "metadata": {},
     "output_type": "execute_result"
    }
   ],
   "source": [
    "# Merging both tables, from query and query1\n",
    "data_new = data.merge(data1, on='film_id', how='left')\n",
    "data_new"
   ]
  },
  {
   "cell_type": "code",
   "execution_count": 8,
   "id": "f4824f41",
   "metadata": {},
   "outputs": [
    {
     "data": {
      "text/html": [
       "<div>\n",
       "<style scoped>\n",
       "    .dataframe tbody tr th:only-of-type {\n",
       "        vertical-align: middle;\n",
       "    }\n",
       "\n",
       "    .dataframe tbody tr th {\n",
       "        vertical-align: top;\n",
       "    }\n",
       "\n",
       "    .dataframe thead th {\n",
       "        text-align: right;\n",
       "    }\n",
       "</style>\n",
       "<table border=\"1\" class=\"dataframe\">\n",
       "  <thead>\n",
       "    <tr style=\"text-align: right;\">\n",
       "      <th></th>\n",
       "      <th>film_id</th>\n",
       "      <th>rented_in_may</th>\n",
       "    </tr>\n",
       "  </thead>\n",
       "  <tbody>\n",
       "    <tr>\n",
       "      <th>0</th>\n",
       "      <td>1</td>\n",
       "      <td>1</td>\n",
       "    </tr>\n",
       "    <tr>\n",
       "      <th>1</th>\n",
       "      <td>2</td>\n",
       "      <td>0</td>\n",
       "    </tr>\n",
       "    <tr>\n",
       "      <th>2</th>\n",
       "      <td>3</td>\n",
       "      <td>1</td>\n",
       "    </tr>\n",
       "    <tr>\n",
       "      <th>3</th>\n",
       "      <td>4</td>\n",
       "      <td>1</td>\n",
       "    </tr>\n",
       "    <tr>\n",
       "      <th>4</th>\n",
       "      <td>5</td>\n",
       "      <td>1</td>\n",
       "    </tr>\n",
       "  </tbody>\n",
       "</table>\n",
       "</div>"
      ],
      "text/plain": [
       "   film_id  rented_in_may\n",
       "0        1              1\n",
       "1        2              0\n",
       "2        3              1\n",
       "3        4              1\n",
       "4        5              1"
      ]
     },
     "execution_count": 8,
     "metadata": {},
     "output_type": "execute_result"
    }
   ],
   "source": [
    "# Quering about the films rented in May 2005\n",
    "query2 = '''SELECT\n",
    "    f.film_id,\n",
    "    MAX(CASE WHEN r.rental_date >= '2005-05-01' AND r.rental_date < '2005-06-01' THEN 1 ELSE 0 END) AS rented_in_may\n",
    "FROM\n",
    "    sakila.film AS f\n",
    "LEFT JOIN\n",
    "    sakila.inventory AS i ON f.film_id = i.film_id\n",
    "LEFT JOIN\n",
    "    sakila.rental AS r ON i.inventory_id = r.inventory_id\n",
    "GROUP BY\n",
    "    f.film_id;'''\n",
    "data2 = pd.read_sql_query(query2, engine)\n",
    "data2.head()"
   ]
  },
  {
   "cell_type": "code",
   "execution_count": 9,
   "id": "0e8c6f85",
   "metadata": {},
   "outputs": [
    {
     "data": {
      "text/plain": [
       "(1000, 2)"
      ]
     },
     "execution_count": 9,
     "metadata": {},
     "output_type": "execute_result"
    }
   ],
   "source": [
    "# Checking for data shape\n",
    "data2.shape"
   ]
  },
  {
   "cell_type": "code",
   "execution_count": 10,
   "id": "0794c5bc",
   "metadata": {},
   "outputs": [
    {
     "data": {
      "text/html": [
       "<div>\n",
       "<style scoped>\n",
       "    .dataframe tbody tr th:only-of-type {\n",
       "        vertical-align: middle;\n",
       "    }\n",
       "\n",
       "    .dataframe tbody tr th {\n",
       "        vertical-align: top;\n",
       "    }\n",
       "\n",
       "    .dataframe thead th {\n",
       "        text-align: right;\n",
       "    }\n",
       "</style>\n",
       "<table border=\"1\" class=\"dataframe\">\n",
       "  <thead>\n",
       "    <tr style=\"text-align: right;\">\n",
       "      <th></th>\n",
       "      <th>film_id</th>\n",
       "      <th>language_id</th>\n",
       "      <th>rental_rate</th>\n",
       "      <th>length</th>\n",
       "      <th>rating</th>\n",
       "      <th>special_features</th>\n",
       "      <th>category_id</th>\n",
       "      <th>num_rentals</th>\n",
       "      <th>availability_status</th>\n",
       "      <th>rented_in_may</th>\n",
       "    </tr>\n",
       "  </thead>\n",
       "  <tbody>\n",
       "    <tr>\n",
       "      <th>0</th>\n",
       "      <td>1</td>\n",
       "      <td>1</td>\n",
       "      <td>0.99</td>\n",
       "      <td>86</td>\n",
       "      <td>PG</td>\n",
       "      <td>Deleted Scenes,Behind the Scenes</td>\n",
       "      <td>6</td>\n",
       "      <td>23</td>\n",
       "      <td>Available</td>\n",
       "      <td>1</td>\n",
       "    </tr>\n",
       "    <tr>\n",
       "      <th>1</th>\n",
       "      <td>2</td>\n",
       "      <td>1</td>\n",
       "      <td>4.99</td>\n",
       "      <td>48</td>\n",
       "      <td>G</td>\n",
       "      <td>Trailers,Deleted Scenes</td>\n",
       "      <td>11</td>\n",
       "      <td>7</td>\n",
       "      <td>Available</td>\n",
       "      <td>0</td>\n",
       "    </tr>\n",
       "    <tr>\n",
       "      <th>2</th>\n",
       "      <td>3</td>\n",
       "      <td>1</td>\n",
       "      <td>2.99</td>\n",
       "      <td>50</td>\n",
       "      <td>NC-17</td>\n",
       "      <td>Trailers,Deleted Scenes</td>\n",
       "      <td>6</td>\n",
       "      <td>12</td>\n",
       "      <td>Available</td>\n",
       "      <td>1</td>\n",
       "    </tr>\n",
       "    <tr>\n",
       "      <th>3</th>\n",
       "      <td>4</td>\n",
       "      <td>1</td>\n",
       "      <td>2.99</td>\n",
       "      <td>117</td>\n",
       "      <td>G</td>\n",
       "      <td>Commentaries,Behind the Scenes</td>\n",
       "      <td>11</td>\n",
       "      <td>23</td>\n",
       "      <td>Available</td>\n",
       "      <td>1</td>\n",
       "    </tr>\n",
       "    <tr>\n",
       "      <th>4</th>\n",
       "      <td>5</td>\n",
       "      <td>1</td>\n",
       "      <td>2.99</td>\n",
       "      <td>130</td>\n",
       "      <td>G</td>\n",
       "      <td>Deleted Scenes</td>\n",
       "      <td>8</td>\n",
       "      <td>12</td>\n",
       "      <td>Available</td>\n",
       "      <td>1</td>\n",
       "    </tr>\n",
       "    <tr>\n",
       "      <th>...</th>\n",
       "      <td>...</td>\n",
       "      <td>...</td>\n",
       "      <td>...</td>\n",
       "      <td>...</td>\n",
       "      <td>...</td>\n",
       "      <td>...</td>\n",
       "      <td>...</td>\n",
       "      <td>...</td>\n",
       "      <td>...</td>\n",
       "      <td>...</td>\n",
       "    </tr>\n",
       "    <tr>\n",
       "      <th>995</th>\n",
       "      <td>996</td>\n",
       "      <td>1</td>\n",
       "      <td>0.99</td>\n",
       "      <td>183</td>\n",
       "      <td>G</td>\n",
       "      <td>Trailers,Behind the Scenes</td>\n",
       "      <td>6</td>\n",
       "      <td>7</td>\n",
       "      <td>Available</td>\n",
       "      <td>0</td>\n",
       "    </tr>\n",
       "    <tr>\n",
       "      <th>996</th>\n",
       "      <td>997</td>\n",
       "      <td>1</td>\n",
       "      <td>0.99</td>\n",
       "      <td>179</td>\n",
       "      <td>NC-17</td>\n",
       "      <td>Trailers,Behind the Scenes</td>\n",
       "      <td>12</td>\n",
       "      <td>6</td>\n",
       "      <td>Available</td>\n",
       "      <td>0</td>\n",
       "    </tr>\n",
       "    <tr>\n",
       "      <th>997</th>\n",
       "      <td>998</td>\n",
       "      <td>1</td>\n",
       "      <td>0.99</td>\n",
       "      <td>105</td>\n",
       "      <td>NC-17</td>\n",
       "      <td>Deleted Scenes</td>\n",
       "      <td>11</td>\n",
       "      <td>9</td>\n",
       "      <td>Available</td>\n",
       "      <td>1</td>\n",
       "    </tr>\n",
       "    <tr>\n",
       "      <th>998</th>\n",
       "      <td>999</td>\n",
       "      <td>1</td>\n",
       "      <td>2.99</td>\n",
       "      <td>101</td>\n",
       "      <td>R</td>\n",
       "      <td>Trailers,Deleted Scenes</td>\n",
       "      <td>3</td>\n",
       "      <td>17</td>\n",
       "      <td>Available</td>\n",
       "      <td>1</td>\n",
       "    </tr>\n",
       "    <tr>\n",
       "      <th>999</th>\n",
       "      <td>1000</td>\n",
       "      <td>1</td>\n",
       "      <td>4.99</td>\n",
       "      <td>50</td>\n",
       "      <td>NC-17</td>\n",
       "      <td>Trailers,Commentaries,Behind the Scenes</td>\n",
       "      <td>5</td>\n",
       "      <td>31</td>\n",
       "      <td>Available</td>\n",
       "      <td>1</td>\n",
       "    </tr>\n",
       "  </tbody>\n",
       "</table>\n",
       "<p>1000 rows × 10 columns</p>\n",
       "</div>"
      ],
      "text/plain": [
       "     film_id  language_id  rental_rate  length rating  \\\n",
       "0          1            1         0.99      86     PG   \n",
       "1          2            1         4.99      48      G   \n",
       "2          3            1         2.99      50  NC-17   \n",
       "3          4            1         2.99     117      G   \n",
       "4          5            1         2.99     130      G   \n",
       "..       ...          ...          ...     ...    ...   \n",
       "995      996            1         0.99     183      G   \n",
       "996      997            1         0.99     179  NC-17   \n",
       "997      998            1         0.99     105  NC-17   \n",
       "998      999            1         2.99     101      R   \n",
       "999     1000            1         4.99      50  NC-17   \n",
       "\n",
       "                            special_features  category_id  num_rentals  \\\n",
       "0           Deleted Scenes,Behind the Scenes            6           23   \n",
       "1                    Trailers,Deleted Scenes           11            7   \n",
       "2                    Trailers,Deleted Scenes            6           12   \n",
       "3             Commentaries,Behind the Scenes           11           23   \n",
       "4                             Deleted Scenes            8           12   \n",
       "..                                       ...          ...          ...   \n",
       "995               Trailers,Behind the Scenes            6            7   \n",
       "996               Trailers,Behind the Scenes           12            6   \n",
       "997                           Deleted Scenes           11            9   \n",
       "998                  Trailers,Deleted Scenes            3           17   \n",
       "999  Trailers,Commentaries,Behind the Scenes            5           31   \n",
       "\n",
       "    availability_status  rented_in_may  \n",
       "0             Available              1  \n",
       "1             Available              0  \n",
       "2             Available              1  \n",
       "3             Available              1  \n",
       "4             Available              1  \n",
       "..                  ...            ...  \n",
       "995           Available              0  \n",
       "996           Available              0  \n",
       "997           Available              1  \n",
       "998           Available              1  \n",
       "999           Available              1  \n",
       "\n",
       "[1000 rows x 10 columns]"
      ]
     },
     "execution_count": 10,
     "metadata": {},
     "output_type": "execute_result"
    }
   ],
   "source": [
    "# Merging both tables, from data_new and query2\n",
    "final_data = data_new.merge(data2, on='film_id', how='left')\n",
    "final_data"
   ]
  },
  {
   "cell_type": "code",
   "execution_count": 11,
   "id": "874fcb6d",
   "metadata": {},
   "outputs": [
    {
     "data": {
      "text/html": [
       "<div>\n",
       "<style scoped>\n",
       "    .dataframe tbody tr th:only-of-type {\n",
       "        vertical-align: middle;\n",
       "    }\n",
       "\n",
       "    .dataframe tbody tr th {\n",
       "        vertical-align: top;\n",
       "    }\n",
       "\n",
       "    .dataframe thead th {\n",
       "        text-align: right;\n",
       "    }\n",
       "</style>\n",
       "<table border=\"1\" class=\"dataframe\">\n",
       "  <thead>\n",
       "    <tr style=\"text-align: right;\">\n",
       "      <th></th>\n",
       "      <th>film_id</th>\n",
       "      <th>language_id</th>\n",
       "      <th>rental_rate</th>\n",
       "      <th>length</th>\n",
       "      <th>rating</th>\n",
       "      <th>special_features</th>\n",
       "      <th>category_id</th>\n",
       "      <th>num_rentals</th>\n",
       "      <th>availability_status</th>\n",
       "      <th>rented_in_may</th>\n",
       "    </tr>\n",
       "  </thead>\n",
       "  <tbody>\n",
       "    <tr>\n",
       "      <th>0</th>\n",
       "      <td>1</td>\n",
       "      <td>1</td>\n",
       "      <td>0.99</td>\n",
       "      <td>86</td>\n",
       "      <td>PG</td>\n",
       "      <td>Deleted Scenes,Behind the Scenes</td>\n",
       "      <td>6</td>\n",
       "      <td>23</td>\n",
       "      <td>Available</td>\n",
       "      <td>True</td>\n",
       "    </tr>\n",
       "    <tr>\n",
       "      <th>1</th>\n",
       "      <td>2</td>\n",
       "      <td>1</td>\n",
       "      <td>4.99</td>\n",
       "      <td>48</td>\n",
       "      <td>G</td>\n",
       "      <td>Trailers,Deleted Scenes</td>\n",
       "      <td>11</td>\n",
       "      <td>7</td>\n",
       "      <td>Available</td>\n",
       "      <td>False</td>\n",
       "    </tr>\n",
       "    <tr>\n",
       "      <th>2</th>\n",
       "      <td>3</td>\n",
       "      <td>1</td>\n",
       "      <td>2.99</td>\n",
       "      <td>50</td>\n",
       "      <td>NC-17</td>\n",
       "      <td>Trailers,Deleted Scenes</td>\n",
       "      <td>6</td>\n",
       "      <td>12</td>\n",
       "      <td>Available</td>\n",
       "      <td>True</td>\n",
       "    </tr>\n",
       "    <tr>\n",
       "      <th>3</th>\n",
       "      <td>4</td>\n",
       "      <td>1</td>\n",
       "      <td>2.99</td>\n",
       "      <td>117</td>\n",
       "      <td>G</td>\n",
       "      <td>Commentaries,Behind the Scenes</td>\n",
       "      <td>11</td>\n",
       "      <td>23</td>\n",
       "      <td>Available</td>\n",
       "      <td>True</td>\n",
       "    </tr>\n",
       "    <tr>\n",
       "      <th>4</th>\n",
       "      <td>5</td>\n",
       "      <td>1</td>\n",
       "      <td>2.99</td>\n",
       "      <td>130</td>\n",
       "      <td>G</td>\n",
       "      <td>Deleted Scenes</td>\n",
       "      <td>8</td>\n",
       "      <td>12</td>\n",
       "      <td>Available</td>\n",
       "      <td>True</td>\n",
       "    </tr>\n",
       "    <tr>\n",
       "      <th>...</th>\n",
       "      <td>...</td>\n",
       "      <td>...</td>\n",
       "      <td>...</td>\n",
       "      <td>...</td>\n",
       "      <td>...</td>\n",
       "      <td>...</td>\n",
       "      <td>...</td>\n",
       "      <td>...</td>\n",
       "      <td>...</td>\n",
       "      <td>...</td>\n",
       "    </tr>\n",
       "    <tr>\n",
       "      <th>995</th>\n",
       "      <td>996</td>\n",
       "      <td>1</td>\n",
       "      <td>0.99</td>\n",
       "      <td>183</td>\n",
       "      <td>G</td>\n",
       "      <td>Trailers,Behind the Scenes</td>\n",
       "      <td>6</td>\n",
       "      <td>7</td>\n",
       "      <td>Available</td>\n",
       "      <td>False</td>\n",
       "    </tr>\n",
       "    <tr>\n",
       "      <th>996</th>\n",
       "      <td>997</td>\n",
       "      <td>1</td>\n",
       "      <td>0.99</td>\n",
       "      <td>179</td>\n",
       "      <td>NC-17</td>\n",
       "      <td>Trailers,Behind the Scenes</td>\n",
       "      <td>12</td>\n",
       "      <td>6</td>\n",
       "      <td>Available</td>\n",
       "      <td>False</td>\n",
       "    </tr>\n",
       "    <tr>\n",
       "      <th>997</th>\n",
       "      <td>998</td>\n",
       "      <td>1</td>\n",
       "      <td>0.99</td>\n",
       "      <td>105</td>\n",
       "      <td>NC-17</td>\n",
       "      <td>Deleted Scenes</td>\n",
       "      <td>11</td>\n",
       "      <td>9</td>\n",
       "      <td>Available</td>\n",
       "      <td>True</td>\n",
       "    </tr>\n",
       "    <tr>\n",
       "      <th>998</th>\n",
       "      <td>999</td>\n",
       "      <td>1</td>\n",
       "      <td>2.99</td>\n",
       "      <td>101</td>\n",
       "      <td>R</td>\n",
       "      <td>Trailers,Deleted Scenes</td>\n",
       "      <td>3</td>\n",
       "      <td>17</td>\n",
       "      <td>Available</td>\n",
       "      <td>True</td>\n",
       "    </tr>\n",
       "    <tr>\n",
       "      <th>999</th>\n",
       "      <td>1000</td>\n",
       "      <td>1</td>\n",
       "      <td>4.99</td>\n",
       "      <td>50</td>\n",
       "      <td>NC-17</td>\n",
       "      <td>Trailers,Commentaries,Behind the Scenes</td>\n",
       "      <td>5</td>\n",
       "      <td>31</td>\n",
       "      <td>Available</td>\n",
       "      <td>True</td>\n",
       "    </tr>\n",
       "  </tbody>\n",
       "</table>\n",
       "<p>1000 rows × 10 columns</p>\n",
       "</div>"
      ],
      "text/plain": [
       "     film_id  language_id  rental_rate  length rating  \\\n",
       "0          1            1         0.99      86     PG   \n",
       "1          2            1         4.99      48      G   \n",
       "2          3            1         2.99      50  NC-17   \n",
       "3          4            1         2.99     117      G   \n",
       "4          5            1         2.99     130      G   \n",
       "..       ...          ...          ...     ...    ...   \n",
       "995      996            1         0.99     183      G   \n",
       "996      997            1         0.99     179  NC-17   \n",
       "997      998            1         0.99     105  NC-17   \n",
       "998      999            1         2.99     101      R   \n",
       "999     1000            1         4.99      50  NC-17   \n",
       "\n",
       "                            special_features  category_id  num_rentals  \\\n",
       "0           Deleted Scenes,Behind the Scenes            6           23   \n",
       "1                    Trailers,Deleted Scenes           11            7   \n",
       "2                    Trailers,Deleted Scenes            6           12   \n",
       "3             Commentaries,Behind the Scenes           11           23   \n",
       "4                             Deleted Scenes            8           12   \n",
       "..                                       ...          ...          ...   \n",
       "995               Trailers,Behind the Scenes            6            7   \n",
       "996               Trailers,Behind the Scenes           12            6   \n",
       "997                           Deleted Scenes           11            9   \n",
       "998                  Trailers,Deleted Scenes            3           17   \n",
       "999  Trailers,Commentaries,Behind the Scenes            5           31   \n",
       "\n",
       "    availability_status  rented_in_may  \n",
       "0             Available           True  \n",
       "1             Available          False  \n",
       "2             Available           True  \n",
       "3             Available           True  \n",
       "4             Available           True  \n",
       "..                  ...            ...  \n",
       "995           Available          False  \n",
       "996           Available          False  \n",
       "997           Available           True  \n",
       "998           Available           True  \n",
       "999           Available           True  \n",
       "\n",
       "[1000 rows x 10 columns]"
      ]
     },
     "execution_count": 11,
     "metadata": {},
     "output_type": "execute_result"
    }
   ],
   "source": [
    "# Convert the 'column_name' from 0s and 1s to boolean values\n",
    "final_data['rented_in_may'] = final_data['rented_in_may'].astype(bool)\n",
    "final_data"
   ]
  },
  {
   "cell_type": "code",
   "execution_count": 12,
   "id": "2bcf14d9",
   "metadata": {},
   "outputs": [
    {
     "data": {
      "text/plain": [
       "film_id                  int64\n",
       "language_id              int64\n",
       "rental_rate            float64\n",
       "length                   int64\n",
       "rating                  object\n",
       "special_features        object\n",
       "category_id              int64\n",
       "num_rentals              int64\n",
       "availability_status     object\n",
       "rented_in_may             bool\n",
       "dtype: object"
      ]
     },
     "execution_count": 12,
     "metadata": {},
     "output_type": "execute_result"
    }
   ],
   "source": [
    "final_data.dtypes"
   ]
  },
  {
   "cell_type": "code",
   "execution_count": 13,
   "id": "d2405048",
   "metadata": {},
   "outputs": [
    {
     "data": {
      "text/html": [
       "<div>\n",
       "<style scoped>\n",
       "    .dataframe tbody tr th:only-of-type {\n",
       "        vertical-align: middle;\n",
       "    }\n",
       "\n",
       "    .dataframe tbody tr th {\n",
       "        vertical-align: top;\n",
       "    }\n",
       "\n",
       "    .dataframe thead th {\n",
       "        text-align: right;\n",
       "    }\n",
       "</style>\n",
       "<table border=\"1\" class=\"dataframe\">\n",
       "  <thead>\n",
       "    <tr style=\"text-align: right;\">\n",
       "      <th></th>\n",
       "      <th>film_id</th>\n",
       "      <th>language_id</th>\n",
       "      <th>rental_rate</th>\n",
       "      <th>length</th>\n",
       "      <th>category_id</th>\n",
       "      <th>num_rentals</th>\n",
       "    </tr>\n",
       "  </thead>\n",
       "  <tbody>\n",
       "    <tr>\n",
       "      <th>count</th>\n",
       "      <td>1000.000000</td>\n",
       "      <td>1000.0</td>\n",
       "      <td>1000.000000</td>\n",
       "      <td>1000.000000</td>\n",
       "      <td>1000.00000</td>\n",
       "      <td>1000.000000</td>\n",
       "    </tr>\n",
       "    <tr>\n",
       "      <th>mean</th>\n",
       "      <td>500.500000</td>\n",
       "      <td>1.0</td>\n",
       "      <td>2.980000</td>\n",
       "      <td>115.272000</td>\n",
       "      <td>8.47800</td>\n",
       "      <td>16.044000</td>\n",
       "    </tr>\n",
       "    <tr>\n",
       "      <th>std</th>\n",
       "      <td>288.819436</td>\n",
       "      <td>0.0</td>\n",
       "      <td>1.646393</td>\n",
       "      <td>40.426332</td>\n",
       "      <td>4.61029</td>\n",
       "      <td>7.348065</td>\n",
       "    </tr>\n",
       "    <tr>\n",
       "      <th>min</th>\n",
       "      <td>1.000000</td>\n",
       "      <td>1.0</td>\n",
       "      <td>0.990000</td>\n",
       "      <td>46.000000</td>\n",
       "      <td>1.00000</td>\n",
       "      <td>0.000000</td>\n",
       "    </tr>\n",
       "    <tr>\n",
       "      <th>25%</th>\n",
       "      <td>250.750000</td>\n",
       "      <td>1.0</td>\n",
       "      <td>0.990000</td>\n",
       "      <td>80.000000</td>\n",
       "      <td>5.00000</td>\n",
       "      <td>11.000000</td>\n",
       "    </tr>\n",
       "    <tr>\n",
       "      <th>50%</th>\n",
       "      <td>500.500000</td>\n",
       "      <td>1.0</td>\n",
       "      <td>2.990000</td>\n",
       "      <td>114.000000</td>\n",
       "      <td>8.00000</td>\n",
       "      <td>16.000000</td>\n",
       "    </tr>\n",
       "    <tr>\n",
       "      <th>75%</th>\n",
       "      <td>750.250000</td>\n",
       "      <td>1.0</td>\n",
       "      <td>4.990000</td>\n",
       "      <td>149.250000</td>\n",
       "      <td>13.00000</td>\n",
       "      <td>21.000000</td>\n",
       "    </tr>\n",
       "    <tr>\n",
       "      <th>max</th>\n",
       "      <td>1000.000000</td>\n",
       "      <td>1.0</td>\n",
       "      <td>4.990000</td>\n",
       "      <td>185.000000</td>\n",
       "      <td>16.00000</td>\n",
       "      <td>34.000000</td>\n",
       "    </tr>\n",
       "  </tbody>\n",
       "</table>\n",
       "</div>"
      ],
      "text/plain": [
       "           film_id  language_id  rental_rate       length  category_id  \\\n",
       "count  1000.000000       1000.0  1000.000000  1000.000000   1000.00000   \n",
       "mean    500.500000          1.0     2.980000   115.272000      8.47800   \n",
       "std     288.819436          0.0     1.646393    40.426332      4.61029   \n",
       "min       1.000000          1.0     0.990000    46.000000      1.00000   \n",
       "25%     250.750000          1.0     0.990000    80.000000      5.00000   \n",
       "50%     500.500000          1.0     2.990000   114.000000      8.00000   \n",
       "75%     750.250000          1.0     4.990000   149.250000     13.00000   \n",
       "max    1000.000000          1.0     4.990000   185.000000     16.00000   \n",
       "\n",
       "       num_rentals  \n",
       "count  1000.000000  \n",
       "mean     16.044000  \n",
       "std       7.348065  \n",
       "min       0.000000  \n",
       "25%      11.000000  \n",
       "50%      16.000000  \n",
       "75%      21.000000  \n",
       "max      34.000000  "
      ]
     },
     "execution_count": 13,
     "metadata": {},
     "output_type": "execute_result"
    }
   ],
   "source": [
    "final_data.describe()"
   ]
  },
  {
   "cell_type": "code",
   "execution_count": 14,
   "id": "ce3d77b9",
   "metadata": {},
   "outputs": [
    {
     "data": {
      "text/plain": [
       "1    1000\n",
       "Name: language_id, dtype: int64"
      ]
     },
     "execution_count": 14,
     "metadata": {},
     "output_type": "execute_result"
    }
   ],
   "source": [
    "final_data['language_id'].value_counts()"
   ]
  },
  {
   "cell_type": "code",
   "execution_count": 15,
   "id": "5401241f",
   "metadata": {},
   "outputs": [
    {
     "data": {
      "text/plain": [
       "array([1], dtype=int64)"
      ]
     },
     "execution_count": 15,
     "metadata": {},
     "output_type": "execute_result"
    }
   ],
   "source": [
    "unique_values = final_data['language_id'].unique()\n",
    "unique_values"
   ]
  },
  {
   "cell_type": "code",
   "execution_count": 16,
   "id": "e831eb3c",
   "metadata": {},
   "outputs": [],
   "source": [
    "# Checking correlations\n",
    "import matplotlib.pyplot as plt\n",
    "import seaborn as sns"
   ]
  },
  {
   "cell_type": "code",
   "execution_count": 17,
   "id": "80500c95",
   "metadata": {},
   "outputs": [
    {
     "data": {
      "image/png": "[encoded data removed]",
      "text/plain": [
       "<Figure size 720x576 with 2 Axes>"
      ]
     },
     "metadata": {
      "needs_background": "light"
     },
     "output_type": "display_data"
    }
   ],
   "source": [
    "corr_matrix=final_data.corr()  \n",
    "fig, ax = plt.subplots(figsize=(10, 8))\n",
    "ax = sns.heatmap(corr_matrix, annot=True)\n",
    "plt.show()"
   ]
  },
  {
   "cell_type": "code",
   "execution_count": 18,
   "id": "12339a02",
   "metadata": {},
   "outputs": [],
   "source": [
    "final_data = final_data.drop(['film_id','language_id', 'special_features'], axis=1)"
   ]
  },
  {
   "cell_type": "code",
   "execution_count": 19,
   "id": "846c1799",
   "metadata": {},
   "outputs": [
    {
     "data": {
      "text/html": [
       "<div>\n",
       "<style scoped>\n",
       "    .dataframe tbody tr th:only-of-type {\n",
       "        vertical-align: middle;\n",
       "    }\n",
       "\n",
       "    .dataframe tbody tr th {\n",
       "        vertical-align: top;\n",
       "    }\n",
       "\n",
       "    .dataframe thead th {\n",
       "        text-align: right;\n",
       "    }\n",
       "</style>\n",
       "<table border=\"1\" class=\"dataframe\">\n",
       "  <thead>\n",
       "    <tr style=\"text-align: right;\">\n",
       "      <th></th>\n",
       "      <th>rental_rate</th>\n",
       "      <th>length</th>\n",
       "      <th>rating</th>\n",
       "      <th>category_id</th>\n",
       "      <th>num_rentals</th>\n",
       "      <th>availability_status</th>\n",
       "      <th>rented_in_may</th>\n",
       "    </tr>\n",
       "  </thead>\n",
       "  <tbody>\n",
       "    <tr>\n",
       "      <th>0</th>\n",
       "      <td>0.99</td>\n",
       "      <td>86</td>\n",
       "      <td>PG</td>\n",
       "      <td>6</td>\n",
       "      <td>23</td>\n",
       "      <td>Available</td>\n",
       "      <td>True</td>\n",
       "    </tr>\n",
       "    <tr>\n",
       "      <th>1</th>\n",
       "      <td>4.99</td>\n",
       "      <td>48</td>\n",
       "      <td>G</td>\n",
       "      <td>11</td>\n",
       "      <td>7</td>\n",
       "      <td>Available</td>\n",
       "      <td>False</td>\n",
       "    </tr>\n",
       "    <tr>\n",
       "      <th>2</th>\n",
       "      <td>2.99</td>\n",
       "      <td>50</td>\n",
       "      <td>NC-17</td>\n",
       "      <td>6</td>\n",
       "      <td>12</td>\n",
       "      <td>Available</td>\n",
       "      <td>True</td>\n",
       "    </tr>\n",
       "    <tr>\n",
       "      <th>3</th>\n",
       "      <td>2.99</td>\n",
       "      <td>117</td>\n",
       "      <td>G</td>\n",
       "      <td>11</td>\n",
       "      <td>23</td>\n",
       "      <td>Available</td>\n",
       "      <td>True</td>\n",
       "    </tr>\n",
       "    <tr>\n",
       "      <th>4</th>\n",
       "      <td>2.99</td>\n",
       "      <td>130</td>\n",
       "      <td>G</td>\n",
       "      <td>8</td>\n",
       "      <td>12</td>\n",
       "      <td>Available</td>\n",
       "      <td>True</td>\n",
       "    </tr>\n",
       "    <tr>\n",
       "      <th>...</th>\n",
       "      <td>...</td>\n",
       "      <td>...</td>\n",
       "      <td>...</td>\n",
       "      <td>...</td>\n",
       "      <td>...</td>\n",
       "      <td>...</td>\n",
       "      <td>...</td>\n",
       "    </tr>\n",
       "    <tr>\n",
       "      <th>995</th>\n",
       "      <td>0.99</td>\n",
       "      <td>183</td>\n",
       "      <td>G</td>\n",
       "      <td>6</td>\n",
       "      <td>7</td>\n",
       "      <td>Available</td>\n",
       "      <td>False</td>\n",
       "    </tr>\n",
       "    <tr>\n",
       "      <th>996</th>\n",
       "      <td>0.99</td>\n",
       "      <td>179</td>\n",
       "      <td>NC-17</td>\n",
       "      <td>12</td>\n",
       "      <td>6</td>\n",
       "      <td>Available</td>\n",
       "      <td>False</td>\n",
       "    </tr>\n",
       "    <tr>\n",
       "      <th>997</th>\n",
       "      <td>0.99</td>\n",
       "      <td>105</td>\n",
       "      <td>NC-17</td>\n",
       "      <td>11</td>\n",
       "      <td>9</td>\n",
       "      <td>Available</td>\n",
       "      <td>True</td>\n",
       "    </tr>\n",
       "    <tr>\n",
       "      <th>998</th>\n",
       "      <td>2.99</td>\n",
       "      <td>101</td>\n",
       "      <td>R</td>\n",
       "      <td>3</td>\n",
       "      <td>17</td>\n",
       "      <td>Available</td>\n",
       "      <td>True</td>\n",
       "    </tr>\n",
       "    <tr>\n",
       "      <th>999</th>\n",
       "      <td>4.99</td>\n",
       "      <td>50</td>\n",
       "      <td>NC-17</td>\n",
       "      <td>5</td>\n",
       "      <td>31</td>\n",
       "      <td>Available</td>\n",
       "      <td>True</td>\n",
       "    </tr>\n",
       "  </tbody>\n",
       "</table>\n",
       "<p>1000 rows × 7 columns</p>\n",
       "</div>"
      ],
      "text/plain": [
       "     rental_rate  length rating  category_id  num_rentals availability_status  \\\n",
       "0           0.99      86     PG            6           23           Available   \n",
       "1           4.99      48      G           11            7           Available   \n",
       "2           2.99      50  NC-17            6           12           Available   \n",
       "3           2.99     117      G           11           23           Available   \n",
       "4           2.99     130      G            8           12           Available   \n",
       "..           ...     ...    ...          ...          ...                 ...   \n",
       "995         0.99     183      G            6            7           Available   \n",
       "996         0.99     179  NC-17           12            6           Available   \n",
       "997         0.99     105  NC-17           11            9           Available   \n",
       "998         2.99     101      R            3           17           Available   \n",
       "999         4.99      50  NC-17            5           31           Available   \n",
       "\n",
       "     rented_in_may  \n",
       "0             True  \n",
       "1            False  \n",
       "2             True  \n",
       "3             True  \n",
       "4             True  \n",
       "..             ...  \n",
       "995          False  \n",
       "996          False  \n",
       "997           True  \n",
       "998           True  \n",
       "999           True  \n",
       "\n",
       "[1000 rows x 7 columns]"
      ]
     },
     "execution_count": 19,
     "metadata": {},
     "output_type": "execute_result"
    }
   ],
   "source": [
    "final_data"
   ]
  },
  {
   "cell_type": "code",
   "execution_count": 20,
   "id": "2fc4126f",
   "metadata": {},
   "outputs": [
    {
     "data": {
      "image/png": "[encoded data removed]",
      "text/plain": [
       "<Figure size 720x576 with 2 Axes>"
      ]
     },
     "metadata": {
      "needs_background": "light"
     },
     "output_type": "display_data"
    }
   ],
   "source": [
    "corr_matrix=final_data.corr()  \n",
    "fig, ax = plt.subplots(figsize=(10, 8))\n",
    "ax = sns.heatmap(corr_matrix, annot=True)\n",
    "plt.show()"
   ]
  },
  {
   "cell_type": "code",
   "execution_count": 21,
   "id": "8d44c221",
   "metadata": {},
   "outputs": [
    {
     "data": {
      "image/png": "[encoded data removed]",
      "text/plain": [
       "<Figure size 360x360 with 1 Axes>"
      ]
     },
     "metadata": {
      "needs_background": "light"
     },
     "output_type": "display_data"
    },
    {
     "data": {
      "image/png": "[encoded data removed]",
      "text/plain": [
       "<Figure size 360x360 with 1 Axes>"
      ]
     },
     "metadata": {
      "needs_background": "light"
     },
     "output_type": "display_data"
    },
    {
     "data": {
      "image/png": "[encoded data removed]",
      "text/plain": [
       "<Figure size 360x360 with 1 Axes>"
      ]
     },
     "metadata": {
      "needs_background": "light"
     },
     "output_type": "display_data"
    },
    {
     "data": {
      "image/png": "[encoded data removed]",
      "text/plain": [
       "<Figure size 360x360 with 1 Axes>"
      ]
     },
     "metadata": {
      "needs_background": "light"
     },
     "output_type": "display_data"
    }
   ],
   "source": [
    "# look at the scale and distribution of values\n",
    "sns.displot(final_data['rental_rate'], kde=True)\n",
    "plt.show()\n",
    "\n",
    "sns.displot(final_data['length'], kde=True)\n",
    "plt.show()\n",
    "\n",
    "sns.displot(final_data['num_rentals'], kde=True)\n",
    "plt.show()\n",
    "\n",
    "sns.displot(final_data['category_id'], kde=True)\n",
    "plt.show()"
   ]
  },
  {
   "cell_type": "code",
   "execution_count": 22,
   "id": "dd6261e8",
   "metadata": {},
   "outputs": [],
   "source": [
    "# X-y split \n",
    "y = final_data['rented_in_may']\n",
    "X = final_data.drop('rented_in_may', axis=1)"
   ]
  },
  {
   "cell_type": "code",
   "execution_count": 23,
   "id": "ab222b16",
   "metadata": {},
   "outputs": [
    {
     "data": {
      "text/plain": [
       "0     True\n",
       "1    False\n",
       "2     True\n",
       "3     True\n",
       "4     True\n",
       "Name: rented_in_may, dtype: bool"
      ]
     },
     "execution_count": 23,
     "metadata": {},
     "output_type": "execute_result"
    }
   ],
   "source": [
    "y.head()"
   ]
  },
  {
   "cell_type": "code",
   "execution_count": 24,
   "id": "15a6301e",
   "metadata": {},
   "outputs": [],
   "source": [
    "from sklearn.model_selection import train_test_split\n",
    "X_train, X_test, y_train, y_test = train_test_split(X, y, test_size=0.2, random_state=21)"
   ]
  },
  {
   "cell_type": "code",
   "execution_count": 25,
   "id": "faeea4f0",
   "metadata": {},
   "outputs": [],
   "source": [
    "import numpy as np\n",
    "from sklearn.preprocessing import MinMaxScaler\n",
    "\n",
    "# Splititng in categorical and numerical data\n",
    "X_train_num = X_train.select_dtypes(include = np.number)\n",
    "X_test_num  = X_test.select_dtypes(include = np.number)\n",
    "X_train_cat = X_train.select_dtypes(include = object)\n",
    "X_test_cat  = X_test.select_dtypes(include = object)"
   ]
  },
  {
   "cell_type": "code",
   "execution_count": 26,
   "id": "b30336d7",
   "metadata": {},
   "outputs": [
    {
     "name": "stderr",
     "output_type": "stream",
     "text": [
      "C:\\Users\\susy_\\anaconda3\\lib\\site-packages\\seaborn\\distributions.py:2619: FutureWarning: `distplot` is a deprecated function and will be removed in a future version. Please adapt your code to use either `displot` (a figure-level function with similar flexibility) or `histplot` (an axes-level function for histograms).\n",
      "  warnings.warn(msg, FutureWarning)\n"
     ]
    },
    {
     "data": {
      "image/png": "[encoded data removed]",
      "text/plain": [
       "<Figure size 432x288 with 1 Axes>"
      ]
     },
     "metadata": {
      "needs_background": "light"
     },
     "output_type": "display_data"
    },
    {
     "name": "stderr",
     "output_type": "stream",
     "text": [
      "C:\\Users\\susy_\\anaconda3\\lib\\site-packages\\seaborn\\distributions.py:2619: FutureWarning: `distplot` is a deprecated function and will be removed in a future version. Please adapt your code to use either `displot` (a figure-level function with similar flexibility) or `histplot` (an axes-level function for histograms).\n",
      "  warnings.warn(msg, FutureWarning)\n"
     ]
    },
    {
     "data": {
      "image/png": "[encoded data removed]",
      "text/plain": [
       "<Figure size 432x288 with 1 Axes>"
      ]
     },
     "metadata": {
      "needs_background": "light"
     },
     "output_type": "display_data"
    },
    {
     "name": "stderr",
     "output_type": "stream",
     "text": [
      "C:\\Users\\susy_\\anaconda3\\lib\\site-packages\\seaborn\\distributions.py:2619: FutureWarning: `distplot` is a deprecated function and will be removed in a future version. Please adapt your code to use either `displot` (a figure-level function with similar flexibility) or `histplot` (an axes-level function for histograms).\n",
      "  warnings.warn(msg, FutureWarning)\n"
     ]
    },
    {
     "data": {
      "image/png": "[encoded data removed]",
      "text/plain": [
       "<Figure size 432x288 with 1 Axes>"
      ]
     },
     "metadata": {
      "needs_background": "light"
     },
     "output_type": "display_data"
    },
    {
     "name": "stderr",
     "output_type": "stream",
     "text": [
      "C:\\Users\\susy_\\anaconda3\\lib\\site-packages\\seaborn\\distributions.py:2619: FutureWarning: `distplot` is a deprecated function and will be removed in a future version. Please adapt your code to use either `displot` (a figure-level function with similar flexibility) or `histplot` (an axes-level function for histograms).\n",
      "  warnings.warn(msg, FutureWarning)\n"
     ]
    },
    {
     "data": {
      "image/png": "[encoded data removed]",
      "text/plain": [
       "<Figure size 432x288 with 1 Axes>"
      ]
     },
     "metadata": {
      "needs_background": "light"
     },
     "output_type": "display_data"
    }
   ],
   "source": [
    "# plot distributions for numericals\n",
    "sns.distplot(X_train_num['rental_rate'])\n",
    "plt.show()\n",
    "\n",
    "sns.distplot(X_train_num['length'])\n",
    "plt.show()\n",
    "\n",
    "sns.distplot(X_train_num['num_rentals'])\n",
    "plt.show()\n",
    "\n",
    "sns.distplot(X_train_num['category_id'])\n",
    "plt.show()"
   ]
  },
  {
   "cell_type": "code",
   "execution_count": 27,
   "id": "0d9b622f",
   "metadata": {},
   "outputs": [
    {
     "data": {
      "text/html": [
       "<div>\n",
       "<style scoped>\n",
       "    .dataframe tbody tr th:only-of-type {\n",
       "        vertical-align: middle;\n",
       "    }\n",
       "\n",
       "    .dataframe tbody tr th {\n",
       "        vertical-align: top;\n",
       "    }\n",
       "\n",
       "    .dataframe thead th {\n",
       "        text-align: right;\n",
       "    }\n",
       "</style>\n",
       "<table border=\"1\" class=\"dataframe\">\n",
       "  <thead>\n",
       "    <tr style=\"text-align: right;\">\n",
       "      <th></th>\n",
       "      <th>rental_rate</th>\n",
       "      <th>length</th>\n",
       "      <th>category_id</th>\n",
       "      <th>num_rentals</th>\n",
       "    </tr>\n",
       "  </thead>\n",
       "  <tbody>\n",
       "    <tr>\n",
       "      <th>0</th>\n",
       "      <td>0.0</td>\n",
       "      <td>0.309353</td>\n",
       "      <td>0.800000</td>\n",
       "      <td>0.882353</td>\n",
       "    </tr>\n",
       "    <tr>\n",
       "      <th>1</th>\n",
       "      <td>0.5</td>\n",
       "      <td>0.172662</td>\n",
       "      <td>0.933333</td>\n",
       "      <td>0.794118</td>\n",
       "    </tr>\n",
       "    <tr>\n",
       "      <th>2</th>\n",
       "      <td>0.0</td>\n",
       "      <td>0.100719</td>\n",
       "      <td>0.000000</td>\n",
       "      <td>0.705882</td>\n",
       "    </tr>\n",
       "    <tr>\n",
       "      <th>3</th>\n",
       "      <td>0.5</td>\n",
       "      <td>0.892086</td>\n",
       "      <td>0.466667</td>\n",
       "      <td>0.705882</td>\n",
       "    </tr>\n",
       "    <tr>\n",
       "      <th>4</th>\n",
       "      <td>0.5</td>\n",
       "      <td>1.000000</td>\n",
       "      <td>0.000000</td>\n",
       "      <td>0.470588</td>\n",
       "    </tr>\n",
       "  </tbody>\n",
       "</table>\n",
       "</div>"
      ],
      "text/plain": [
       "   rental_rate    length  category_id  num_rentals\n",
       "0          0.0  0.309353     0.800000     0.882353\n",
       "1          0.5  0.172662     0.933333     0.794118\n",
       "2          0.0  0.100719     0.000000     0.705882\n",
       "3          0.5  0.892086     0.466667     0.705882\n",
       "4          0.5  1.000000     0.000000     0.470588"
      ]
     },
     "execution_count": 27,
     "metadata": {},
     "output_type": "execute_result"
    }
   ],
   "source": [
    "# Scaling data\n",
    "transformer = MinMaxScaler().fit(X_train_num)\n",
    "x_normalized = transformer.transform(X_train_num)\n",
    "x_norm = pd.DataFrame(x_normalized, columns=X_train_num.columns)\n",
    "x_norm.head()"
   ]
  },
  {
   "cell_type": "code",
   "execution_count": 28,
   "id": "a4efd1cd",
   "metadata": {},
   "outputs": [
    {
     "data": {
      "text/html": [
       "<div>\n",
       "<style scoped>\n",
       "    .dataframe tbody tr th:only-of-type {\n",
       "        vertical-align: middle;\n",
       "    }\n",
       "\n",
       "    .dataframe tbody tr th {\n",
       "        vertical-align: top;\n",
       "    }\n",
       "\n",
       "    .dataframe thead th {\n",
       "        text-align: right;\n",
       "    }\n",
       "</style>\n",
       "<table border=\"1\" class=\"dataframe\">\n",
       "  <thead>\n",
       "    <tr style=\"text-align: right;\">\n",
       "      <th></th>\n",
       "      <th>rating_NC-17</th>\n",
       "      <th>rating_PG</th>\n",
       "      <th>rating_PG-13</th>\n",
       "      <th>rating_R</th>\n",
       "      <th>availability_status_NOT available</th>\n",
       "    </tr>\n",
       "  </thead>\n",
       "  <tbody>\n",
       "    <tr>\n",
       "      <th>0</th>\n",
       "      <td>0.0</td>\n",
       "      <td>0.0</td>\n",
       "      <td>0.0</td>\n",
       "      <td>0.0</td>\n",
       "      <td>0.0</td>\n",
       "    </tr>\n",
       "    <tr>\n",
       "      <th>1</th>\n",
       "      <td>0.0</td>\n",
       "      <td>0.0</td>\n",
       "      <td>0.0</td>\n",
       "      <td>1.0</td>\n",
       "      <td>0.0</td>\n",
       "    </tr>\n",
       "    <tr>\n",
       "      <th>2</th>\n",
       "      <td>0.0</td>\n",
       "      <td>1.0</td>\n",
       "      <td>0.0</td>\n",
       "      <td>0.0</td>\n",
       "      <td>0.0</td>\n",
       "    </tr>\n",
       "    <tr>\n",
       "      <th>3</th>\n",
       "      <td>0.0</td>\n",
       "      <td>0.0</td>\n",
       "      <td>0.0</td>\n",
       "      <td>0.0</td>\n",
       "      <td>0.0</td>\n",
       "    </tr>\n",
       "    <tr>\n",
       "      <th>4</th>\n",
       "      <td>0.0</td>\n",
       "      <td>1.0</td>\n",
       "      <td>0.0</td>\n",
       "      <td>0.0</td>\n",
       "      <td>0.0</td>\n",
       "    </tr>\n",
       "  </tbody>\n",
       "</table>\n",
       "</div>"
      ],
      "text/plain": [
       "   rating_NC-17  rating_PG  rating_PG-13  rating_R  \\\n",
       "0           0.0        0.0           0.0       0.0   \n",
       "1           0.0        0.0           0.0       1.0   \n",
       "2           0.0        1.0           0.0       0.0   \n",
       "3           0.0        0.0           0.0       0.0   \n",
       "4           0.0        1.0           0.0       0.0   \n",
       "\n",
       "   availability_status_NOT available  \n",
       "0                                0.0  \n",
       "1                                0.0  \n",
       "2                                0.0  \n",
       "3                                0.0  \n",
       "4                                0.0  "
      ]
     },
     "execution_count": 28,
     "metadata": {},
     "output_type": "execute_result"
    }
   ],
   "source": [
    "# OneHotEncoding of the categorical data\n",
    "from sklearn.preprocessing import OneHotEncoder\n",
    "\n",
    "encoder = OneHotEncoder(drop='first').fit(X_train_cat)  # Fiting and Dropping the first varaible of each column\n",
    "encoded = encoder.transform(X_train_cat).toarray()\n",
    "column_names = encoder.get_feature_names_out(input_features=X_train_cat.columns) # assigning column names\n",
    "onehot_encoded = pd.DataFrame(encoded, columns=column_names)\n",
    "onehot_encoded.head()"
   ]
  },
  {
   "cell_type": "code",
   "execution_count": 29,
   "id": "664b98fe",
   "metadata": {},
   "outputs": [
    {
     "data": {
      "text/html": [
       "<div>\n",
       "<style scoped>\n",
       "    .dataframe tbody tr th:only-of-type {\n",
       "        vertical-align: middle;\n",
       "    }\n",
       "\n",
       "    .dataframe tbody tr th {\n",
       "        vertical-align: top;\n",
       "    }\n",
       "\n",
       "    .dataframe thead th {\n",
       "        text-align: right;\n",
       "    }\n",
       "</style>\n",
       "<table border=\"1\" class=\"dataframe\">\n",
       "  <thead>\n",
       "    <tr style=\"text-align: right;\">\n",
       "      <th></th>\n",
       "      <th>rental_rate</th>\n",
       "      <th>length</th>\n",
       "      <th>category_id</th>\n",
       "      <th>num_rentals</th>\n",
       "      <th>rating_NC-17</th>\n",
       "      <th>rating_PG</th>\n",
       "      <th>rating_PG-13</th>\n",
       "      <th>rating_R</th>\n",
       "      <th>availability_status_NOT available</th>\n",
       "    </tr>\n",
       "  </thead>\n",
       "  <tbody>\n",
       "    <tr>\n",
       "      <th>0</th>\n",
       "      <td>0.0</td>\n",
       "      <td>0.309353</td>\n",
       "      <td>0.800000</td>\n",
       "      <td>0.882353</td>\n",
       "      <td>0.0</td>\n",
       "      <td>0.0</td>\n",
       "      <td>0.0</td>\n",
       "      <td>0.0</td>\n",
       "      <td>0.0</td>\n",
       "    </tr>\n",
       "    <tr>\n",
       "      <th>1</th>\n",
       "      <td>0.5</td>\n",
       "      <td>0.172662</td>\n",
       "      <td>0.933333</td>\n",
       "      <td>0.794118</td>\n",
       "      <td>0.0</td>\n",
       "      <td>0.0</td>\n",
       "      <td>0.0</td>\n",
       "      <td>1.0</td>\n",
       "      <td>0.0</td>\n",
       "    </tr>\n",
       "    <tr>\n",
       "      <th>2</th>\n",
       "      <td>0.0</td>\n",
       "      <td>0.100719</td>\n",
       "      <td>0.000000</td>\n",
       "      <td>0.705882</td>\n",
       "      <td>0.0</td>\n",
       "      <td>1.0</td>\n",
       "      <td>0.0</td>\n",
       "      <td>0.0</td>\n",
       "      <td>0.0</td>\n",
       "    </tr>\n",
       "    <tr>\n",
       "      <th>3</th>\n",
       "      <td>0.5</td>\n",
       "      <td>0.892086</td>\n",
       "      <td>0.466667</td>\n",
       "      <td>0.705882</td>\n",
       "      <td>0.0</td>\n",
       "      <td>0.0</td>\n",
       "      <td>0.0</td>\n",
       "      <td>0.0</td>\n",
       "      <td>0.0</td>\n",
       "    </tr>\n",
       "    <tr>\n",
       "      <th>4</th>\n",
       "      <td>0.5</td>\n",
       "      <td>1.000000</td>\n",
       "      <td>0.000000</td>\n",
       "      <td>0.470588</td>\n",
       "      <td>0.0</td>\n",
       "      <td>1.0</td>\n",
       "      <td>0.0</td>\n",
       "      <td>0.0</td>\n",
       "      <td>0.0</td>\n",
       "    </tr>\n",
       "    <tr>\n",
       "      <th>...</th>\n",
       "      <td>...</td>\n",
       "      <td>...</td>\n",
       "      <td>...</td>\n",
       "      <td>...</td>\n",
       "      <td>...</td>\n",
       "      <td>...</td>\n",
       "      <td>...</td>\n",
       "      <td>...</td>\n",
       "      <td>...</td>\n",
       "    </tr>\n",
       "    <tr>\n",
       "      <th>795</th>\n",
       "      <td>0.5</td>\n",
       "      <td>0.834532</td>\n",
       "      <td>0.866667</td>\n",
       "      <td>0.617647</td>\n",
       "      <td>0.0</td>\n",
       "      <td>0.0</td>\n",
       "      <td>0.0</td>\n",
       "      <td>1.0</td>\n",
       "      <td>0.0</td>\n",
       "    </tr>\n",
       "    <tr>\n",
       "      <th>796</th>\n",
       "      <td>0.5</td>\n",
       "      <td>0.474820</td>\n",
       "      <td>0.933333</td>\n",
       "      <td>0.764706</td>\n",
       "      <td>1.0</td>\n",
       "      <td>0.0</td>\n",
       "      <td>0.0</td>\n",
       "      <td>0.0</td>\n",
       "      <td>0.0</td>\n",
       "    </tr>\n",
       "    <tr>\n",
       "      <th>797</th>\n",
       "      <td>0.5</td>\n",
       "      <td>0.856115</td>\n",
       "      <td>0.000000</td>\n",
       "      <td>0.352941</td>\n",
       "      <td>0.0</td>\n",
       "      <td>0.0</td>\n",
       "      <td>1.0</td>\n",
       "      <td>0.0</td>\n",
       "      <td>0.0</td>\n",
       "    </tr>\n",
       "    <tr>\n",
       "      <th>798</th>\n",
       "      <td>0.5</td>\n",
       "      <td>0.309353</td>\n",
       "      <td>0.066667</td>\n",
       "      <td>0.264706</td>\n",
       "      <td>0.0</td>\n",
       "      <td>0.0</td>\n",
       "      <td>1.0</td>\n",
       "      <td>0.0</td>\n",
       "      <td>0.0</td>\n",
       "    </tr>\n",
       "    <tr>\n",
       "      <th>799</th>\n",
       "      <td>0.0</td>\n",
       "      <td>0.043165</td>\n",
       "      <td>0.200000</td>\n",
       "      <td>0.764706</td>\n",
       "      <td>1.0</td>\n",
       "      <td>0.0</td>\n",
       "      <td>0.0</td>\n",
       "      <td>0.0</td>\n",
       "      <td>0.0</td>\n",
       "    </tr>\n",
       "  </tbody>\n",
       "</table>\n",
       "<p>800 rows × 9 columns</p>\n",
       "</div>"
      ],
      "text/plain": [
       "     rental_rate    length  category_id  num_rentals  rating_NC-17  rating_PG  \\\n",
       "0            0.0  0.309353     0.800000     0.882353           0.0        0.0   \n",
       "1            0.5  0.172662     0.933333     0.794118           0.0        0.0   \n",
       "2            0.0  0.100719     0.000000     0.705882           0.0        1.0   \n",
       "3            0.5  0.892086     0.466667     0.705882           0.0        0.0   \n",
       "4            0.5  1.000000     0.000000     0.470588           0.0        1.0   \n",
       "..           ...       ...          ...          ...           ...        ...   \n",
       "795          0.5  0.834532     0.866667     0.617647           0.0        0.0   \n",
       "796          0.5  0.474820     0.933333     0.764706           1.0        0.0   \n",
       "797          0.5  0.856115     0.000000     0.352941           0.0        0.0   \n",
       "798          0.5  0.309353     0.066667     0.264706           0.0        0.0   \n",
       "799          0.0  0.043165     0.200000     0.764706           1.0        0.0   \n",
       "\n",
       "     rating_PG-13  rating_R  availability_status_NOT available  \n",
       "0             0.0       0.0                                0.0  \n",
       "1             0.0       1.0                                0.0  \n",
       "2             0.0       0.0                                0.0  \n",
       "3             0.0       0.0                                0.0  \n",
       "4             0.0       0.0                                0.0  \n",
       "..            ...       ...                                ...  \n",
       "795           0.0       1.0                                0.0  \n",
       "796           0.0       0.0                                0.0  \n",
       "797           1.0       0.0                                0.0  \n",
       "798           1.0       0.0                                0.0  \n",
       "799           0.0       0.0                                0.0  \n",
       "\n",
       "[800 rows x 9 columns]"
      ]
     },
     "execution_count": 29,
     "metadata": {},
     "output_type": "execute_result"
    }
   ],
   "source": [
    "# Concatenating DataFrames - getting both dataframes together again\n",
    "X_train_treated = pd.concat([x_norm, onehot_encoded], axis=1)\n",
    "X_train_treated"
   ]
  },
  {
   "cell_type": "code",
   "execution_count": 30,
   "id": "20bfaef6",
   "metadata": {},
   "outputs": [],
   "source": [
    "# Using multinomial logistic regression\n",
    "from sklearn.linear_model import LogisticRegression\n",
    "classification = LogisticRegression(random_state=0, solver='lbfgs',\n",
    "                  multi_class='multinomial').fit(X_train_treated, y_train)"
   ]
  },
  {
   "cell_type": "code",
   "execution_count": 31,
   "id": "2cf7a5a4",
   "metadata": {},
   "outputs": [
    {
     "data": {
      "text/plain": [
       "True"
      ]
     },
     "execution_count": 31,
     "metadata": {},
     "output_type": "execute_result"
    }
   ],
   "source": [
    "# Checking for equality of data on X_train_cat and y_train_cat, despite of not have choosen 'get dummies' in the encoding\n",
    "list(X_train_cat.columns)==list(X_test_cat.columns)"
   ]
  },
  {
   "cell_type": "code",
   "execution_count": 32,
   "id": "2f36f60a",
   "metadata": {},
   "outputs": [
    {
     "data": {
      "text/html": [
       "<div>\n",
       "<style scoped>\n",
       "    .dataframe tbody tr th:only-of-type {\n",
       "        vertical-align: middle;\n",
       "    }\n",
       "\n",
       "    .dataframe tbody tr th {\n",
       "        vertical-align: top;\n",
       "    }\n",
       "\n",
       "    .dataframe thead th {\n",
       "        text-align: right;\n",
       "    }\n",
       "</style>\n",
       "<table border=\"1\" class=\"dataframe\">\n",
       "  <thead>\n",
       "    <tr style=\"text-align: right;\">\n",
       "      <th></th>\n",
       "      <th>rental_rate</th>\n",
       "      <th>length</th>\n",
       "      <th>category_id</th>\n",
       "      <th>num_rentals</th>\n",
       "    </tr>\n",
       "  </thead>\n",
       "  <tbody>\n",
       "    <tr>\n",
       "      <th>492</th>\n",
       "      <td>0.99</td>\n",
       "      <td>92</td>\n",
       "      <td>9</td>\n",
       "      <td>14</td>\n",
       "    </tr>\n",
       "    <tr>\n",
       "      <th>383</th>\n",
       "      <td>4.99</td>\n",
       "      <td>49</td>\n",
       "      <td>12</td>\n",
       "      <td>8</td>\n",
       "    </tr>\n",
       "    <tr>\n",
       "      <th>856</th>\n",
       "      <td>2.99</td>\n",
       "      <td>144</td>\n",
       "      <td>5</td>\n",
       "      <td>23</td>\n",
       "    </tr>\n",
       "    <tr>\n",
       "      <th>834</th>\n",
       "      <td>2.99</td>\n",
       "      <td>112</td>\n",
       "      <td>10</td>\n",
       "      <td>27</td>\n",
       "    </tr>\n",
       "    <tr>\n",
       "      <th>603</th>\n",
       "      <td>0.99</td>\n",
       "      <td>160</td>\n",
       "      <td>5</td>\n",
       "      <td>13</td>\n",
       "    </tr>\n",
       "  </tbody>\n",
       "</table>\n",
       "</div>"
      ],
      "text/plain": [
       "     rental_rate  length  category_id  num_rentals\n",
       "492         0.99      92            9           14\n",
       "383         4.99      49           12            8\n",
       "856         2.99     144            5           23\n",
       "834         2.99     112           10           27\n",
       "603         0.99     160            5           13"
      ]
     },
     "execution_count": 32,
     "metadata": {},
     "output_type": "execute_result"
    }
   ],
   "source": [
    "X_test_num.head()"
   ]
  },
  {
   "cell_type": "code",
   "execution_count": 33,
   "id": "5db56223",
   "metadata": {},
   "outputs": [
    {
     "data": {
      "text/html": [
       "<div>\n",
       "<style scoped>\n",
       "    .dataframe tbody tr th:only-of-type {\n",
       "        vertical-align: middle;\n",
       "    }\n",
       "\n",
       "    .dataframe tbody tr th {\n",
       "        vertical-align: top;\n",
       "    }\n",
       "\n",
       "    .dataframe thead th {\n",
       "        text-align: right;\n",
       "    }\n",
       "</style>\n",
       "<table border=\"1\" class=\"dataframe\">\n",
       "  <thead>\n",
       "    <tr style=\"text-align: right;\">\n",
       "      <th></th>\n",
       "      <th>rental_rate</th>\n",
       "      <th>length</th>\n",
       "      <th>category_id</th>\n",
       "      <th>num_rentals</th>\n",
       "    </tr>\n",
       "  </thead>\n",
       "  <tbody>\n",
       "    <tr>\n",
       "      <th>0</th>\n",
       "      <td>0.0</td>\n",
       "      <td>0.330935</td>\n",
       "      <td>0.533333</td>\n",
       "      <td>0.411765</td>\n",
       "    </tr>\n",
       "    <tr>\n",
       "      <th>1</th>\n",
       "      <td>1.0</td>\n",
       "      <td>0.021583</td>\n",
       "      <td>0.733333</td>\n",
       "      <td>0.235294</td>\n",
       "    </tr>\n",
       "    <tr>\n",
       "      <th>2</th>\n",
       "      <td>0.5</td>\n",
       "      <td>0.705036</td>\n",
       "      <td>0.266667</td>\n",
       "      <td>0.676471</td>\n",
       "    </tr>\n",
       "    <tr>\n",
       "      <th>3</th>\n",
       "      <td>0.5</td>\n",
       "      <td>0.474820</td>\n",
       "      <td>0.600000</td>\n",
       "      <td>0.794118</td>\n",
       "    </tr>\n",
       "    <tr>\n",
       "      <th>4</th>\n",
       "      <td>0.0</td>\n",
       "      <td>0.820144</td>\n",
       "      <td>0.266667</td>\n",
       "      <td>0.382353</td>\n",
       "    </tr>\n",
       "  </tbody>\n",
       "</table>\n",
       "</div>"
      ],
      "text/plain": [
       "   rental_rate    length  category_id  num_rentals\n",
       "0          0.0  0.330935     0.533333     0.411765\n",
       "1          1.0  0.021583     0.733333     0.235294\n",
       "2          0.5  0.705036     0.266667     0.676471\n",
       "3          0.5  0.474820     0.600000     0.794118\n",
       "4          0.0  0.820144     0.266667     0.382353"
      ]
     },
     "execution_count": 33,
     "metadata": {},
     "output_type": "execute_result"
    }
   ],
   "source": [
    "# apply scaler to X_test_num\n",
    "X_test_scaled_arr = transformer.transform(X_test_num)\n",
    "X_test_scaled = pd.DataFrame(X_test_scaled_arr, columns=X_test_num.columns)\n",
    "X_test_scaled.head()"
   ]
  },
  {
   "cell_type": "code",
   "execution_count": 34,
   "id": "8f0b1ecf",
   "metadata": {},
   "outputs": [
    {
     "data": {
      "text/html": [
       "<div>\n",
       "<style scoped>\n",
       "    .dataframe tbody tr th:only-of-type {\n",
       "        vertical-align: middle;\n",
       "    }\n",
       "\n",
       "    .dataframe tbody tr th {\n",
       "        vertical-align: top;\n",
       "    }\n",
       "\n",
       "    .dataframe thead th {\n",
       "        text-align: right;\n",
       "    }\n",
       "</style>\n",
       "<table border=\"1\" class=\"dataframe\">\n",
       "  <thead>\n",
       "    <tr style=\"text-align: right;\">\n",
       "      <th></th>\n",
       "      <th>count</th>\n",
       "      <th>mean</th>\n",
       "      <th>std</th>\n",
       "      <th>min</th>\n",
       "      <th>25%</th>\n",
       "      <th>50%</th>\n",
       "      <th>75%</th>\n",
       "      <th>max</th>\n",
       "    </tr>\n",
       "  </thead>\n",
       "  <tbody>\n",
       "    <tr>\n",
       "      <th>rental_rate</th>\n",
       "      <td>200.0</td>\n",
       "      <td>3.070</td>\n",
       "      <td>1.675601</td>\n",
       "      <td>0.99</td>\n",
       "      <td>0.99</td>\n",
       "      <td>2.99</td>\n",
       "      <td>4.99</td>\n",
       "      <td>4.99</td>\n",
       "    </tr>\n",
       "    <tr>\n",
       "      <th>length</th>\n",
       "      <td>200.0</td>\n",
       "      <td>118.485</td>\n",
       "      <td>39.613076</td>\n",
       "      <td>47.00</td>\n",
       "      <td>85.75</td>\n",
       "      <td>115.00</td>\n",
       "      <td>151.00</td>\n",
       "      <td>185.00</td>\n",
       "    </tr>\n",
       "    <tr>\n",
       "      <th>category_id</th>\n",
       "      <td>200.0</td>\n",
       "      <td>8.595</td>\n",
       "      <td>4.504713</td>\n",
       "      <td>1.00</td>\n",
       "      <td>5.00</td>\n",
       "      <td>8.00</td>\n",
       "      <td>13.00</td>\n",
       "      <td>16.00</td>\n",
       "    </tr>\n",
       "    <tr>\n",
       "      <th>num_rentals</th>\n",
       "      <td>200.0</td>\n",
       "      <td>16.110</td>\n",
       "      <td>7.427228</td>\n",
       "      <td>0.00</td>\n",
       "      <td>10.00</td>\n",
       "      <td>16.00</td>\n",
       "      <td>22.00</td>\n",
       "      <td>32.00</td>\n",
       "    </tr>\n",
       "  </tbody>\n",
       "</table>\n",
       "</div>"
      ],
      "text/plain": [
       "             count     mean        std    min    25%     50%     75%     max\n",
       "rental_rate  200.0    3.070   1.675601   0.99   0.99    2.99    4.99    4.99\n",
       "length       200.0  118.485  39.613076  47.00  85.75  115.00  151.00  185.00\n",
       "category_id  200.0    8.595   4.504713   1.00   5.00    8.00   13.00   16.00\n",
       "num_rentals  200.0   16.110   7.427228   0.00  10.00   16.00   22.00   32.00"
      ]
     },
     "execution_count": 34,
     "metadata": {},
     "output_type": "execute_result"
    }
   ],
   "source": [
    "# Getting the stats\n",
    "X_test.describe().T"
   ]
  },
  {
   "cell_type": "code",
   "execution_count": 35,
   "id": "90622886",
   "metadata": {},
   "outputs": [
    {
     "data": {
      "text/html": [
       "<div>\n",
       "<style scoped>\n",
       "    .dataframe tbody tr th:only-of-type {\n",
       "        vertical-align: middle;\n",
       "    }\n",
       "\n",
       "    .dataframe tbody tr th {\n",
       "        vertical-align: top;\n",
       "    }\n",
       "\n",
       "    .dataframe thead th {\n",
       "        text-align: right;\n",
       "    }\n",
       "</style>\n",
       "<table border=\"1\" class=\"dataframe\">\n",
       "  <thead>\n",
       "    <tr style=\"text-align: right;\">\n",
       "      <th></th>\n",
       "      <th>rating_NC-17</th>\n",
       "      <th>rating_PG</th>\n",
       "      <th>rating_PG-13</th>\n",
       "      <th>rating_R</th>\n",
       "      <th>availability_status_NOT available</th>\n",
       "    </tr>\n",
       "  </thead>\n",
       "  <tbody>\n",
       "    <tr>\n",
       "      <th>0</th>\n",
       "      <td>0.0</td>\n",
       "      <td>0.0</td>\n",
       "      <td>0.0</td>\n",
       "      <td>1.0</td>\n",
       "      <td>0.0</td>\n",
       "    </tr>\n",
       "    <tr>\n",
       "      <th>1</th>\n",
       "      <td>0.0</td>\n",
       "      <td>0.0</td>\n",
       "      <td>0.0</td>\n",
       "      <td>1.0</td>\n",
       "      <td>0.0</td>\n",
       "    </tr>\n",
       "    <tr>\n",
       "      <th>2</th>\n",
       "      <td>0.0</td>\n",
       "      <td>0.0</td>\n",
       "      <td>1.0</td>\n",
       "      <td>0.0</td>\n",
       "      <td>0.0</td>\n",
       "    </tr>\n",
       "    <tr>\n",
       "      <th>3</th>\n",
       "      <td>0.0</td>\n",
       "      <td>0.0</td>\n",
       "      <td>1.0</td>\n",
       "      <td>0.0</td>\n",
       "      <td>0.0</td>\n",
       "    </tr>\n",
       "    <tr>\n",
       "      <th>4</th>\n",
       "      <td>0.0</td>\n",
       "      <td>0.0</td>\n",
       "      <td>0.0</td>\n",
       "      <td>0.0</td>\n",
       "      <td>0.0</td>\n",
       "    </tr>\n",
       "  </tbody>\n",
       "</table>\n",
       "</div>"
      ],
      "text/plain": [
       "   rating_NC-17  rating_PG  rating_PG-13  rating_R  \\\n",
       "0           0.0        0.0           0.0       1.0   \n",
       "1           0.0        0.0           0.0       1.0   \n",
       "2           0.0        0.0           1.0       0.0   \n",
       "3           0.0        0.0           1.0       0.0   \n",
       "4           0.0        0.0           0.0       0.0   \n",
       "\n",
       "   availability_status_NOT available  \n",
       "0                                0.0  \n",
       "1                                0.0  \n",
       "2                                0.0  \n",
       "3                                0.0  \n",
       "4                                0.0  "
      ]
     },
     "execution_count": 35,
     "metadata": {},
     "output_type": "execute_result"
    }
   ],
   "source": [
    "# apply encoder to X_test_cat \n",
    "encoded_test_cat = encoder.transform(X_test_cat).toarray()\n",
    "onehot_encoded_test = pd.DataFrame(encoded_test_cat, columns=column_names)\n",
    "onehot_encoded_test.head()"
   ]
  },
  {
   "cell_type": "code",
   "execution_count": 36,
   "id": "fb92ac11",
   "metadata": {},
   "outputs": [],
   "source": [
    "# Concatenate both scaled and onehot_encoded portions of X_test\n",
    "X_test_treated = pd.concat([X_test_scaled, onehot_encoded_test], axis=1)"
   ]
  },
  {
   "cell_type": "code",
   "execution_count": 37,
   "id": "6dccfdcd",
   "metadata": {},
   "outputs": [],
   "source": [
    "# Using multinomial logistic regression\n",
    "from sklearn.linear_model import LogisticRegression\n",
    "classification = LogisticRegression(random_state=0, solver='lbfgs',\n",
    "                  multi_class='multinomial').fit(X_test_treated, y_test)"
   ]
  },
  {
   "cell_type": "code",
   "execution_count": 38,
   "id": "66c3c4a5",
   "metadata": {},
   "outputs": [
    {
     "data": {
      "text/plain": [
       "0.72"
      ]
     },
     "execution_count": 38,
     "metadata": {},
     "output_type": "execute_result"
    }
   ],
   "source": [
    "# Predict and get the prediction score\n",
    "predictions = classification.predict(X_test_treated)\n",
    "classification.score(X_test_treated, y_test)"
   ]
  },
  {
   "cell_type": "code",
   "execution_count": 39,
   "id": "d663ecef",
   "metadata": {},
   "outputs": [
    {
     "data": {
      "text/plain": [
       "True     133\n",
       "False     67\n",
       "Name: rented_in_may, dtype: int64"
      ]
     },
     "execution_count": 39,
     "metadata": {},
     "output_type": "execute_result"
    }
   ],
   "source": [
    "y_test.value_counts()"
   ]
  },
  {
   "cell_type": "code",
   "execution_count": 40,
   "id": "e0dec021",
   "metadata": {},
   "outputs": [
    {
     "data": {
      "text/plain": [
       "True     165\n",
       "False     35\n",
       "dtype: int64"
      ]
     },
     "execution_count": 40,
     "metadata": {},
     "output_type": "execute_result"
    }
   ],
   "source": [
    "pd.Series(predictions).value_counts()"
   ]
  },
  {
   "cell_type": "code",
   "execution_count": 41,
   "id": "1f8050b6",
   "metadata": {},
   "outputs": [
    {
     "data": {
      "text/plain": [
       "array([[ 23,  44],\n",
       "       [ 12, 121]], dtype=int64)"
      ]
     },
     "execution_count": 41,
     "metadata": {},
     "output_type": "execute_result"
    }
   ],
   "source": [
    "# Condusion _matrix\n",
    "from sklearn.metrics import confusion_matrix\n",
    "confusion_matrix(y_test, predictions)"
   ]
  },
  {
   "cell_type": "code",
   "execution_count": 42,
   "id": "3f3501f1",
   "metadata": {},
   "outputs": [],
   "source": [
    "# predicted |T | F | \n",
    "# ---------------------\n",
    "# actual  T | 23 | 44 |  \n",
    "# ---------------------\n",
    "#         F | 12 | 121| \n",
    "# ---------------------"
   ]
  },
  {
   "cell_type": "code",
   "execution_count": 43,
   "id": "a8485ec0",
   "metadata": {},
   "outputs": [
    {
     "data": {
      "text/plain": [
       "0.6571428571428571"
      ]
     },
     "execution_count": 43,
     "metadata": {},
     "output_type": "execute_result"
    }
   ],
   "source": [
    "# Calculate the precision of the model:\n",
    "\n",
    "# Precision = True Positive/(True Positive + False Positive)\n",
    "Precision = 23/(23 + 12)\n",
    "Precision"
   ]
  },
  {
   "cell_type": "code",
   "execution_count": 44,
   "id": "7194d1c0",
   "metadata": {},
   "outputs": [],
   "source": [
    "# Checking with another logistic regression model - KNN classifier"
   ]
  },
  {
   "cell_type": "code",
   "execution_count": 45,
   "id": "d42bc86d",
   "metadata": {},
   "outputs": [
    {
     "data": {
      "text/plain": [
       "KNeighborsClassifier(n_neighbors=3)"
      ]
     },
     "execution_count": 45,
     "metadata": {},
     "output_type": "execute_result"
    }
   ],
   "source": [
    "from sklearn import neighbors\n",
    "clf = neighbors.KNeighborsClassifier(n_neighbors=3, weights='uniform')\n",
    "clf.fit(X_test_treated, y_test)"
   ]
  },
  {
   "cell_type": "code",
   "execution_count": 46,
   "id": "3139d728",
   "metadata": {},
   "outputs": [
    {
     "data": {
      "text/plain": [
       "0.795"
      ]
     },
     "execution_count": 46,
     "metadata": {},
     "output_type": "execute_result"
    }
   ],
   "source": [
    "# Predict and get the prediction score\n",
    "predictions_clf = clf.predict(X_test_treated)\n",
    "clf.score(X_test_treated, y_test)"
   ]
  },
  {
   "cell_type": "code",
   "execution_count": 47,
   "id": "5bd202c8",
   "metadata": {},
   "outputs": [
    {
     "data": {
      "text/plain": [
       "True     133\n",
       "False     67\n",
       "Name: rented_in_may, dtype: int64"
      ]
     },
     "execution_count": 47,
     "metadata": {},
     "output_type": "execute_result"
    }
   ],
   "source": [
    "y_test.value_counts()"
   ]
  },
  {
   "cell_type": "code",
   "execution_count": 48,
   "id": "0f3eddc3",
   "metadata": {},
   "outputs": [
    {
     "data": {
      "text/plain": [
       "True     146\n",
       "False     54\n",
       "dtype: int64"
      ]
     },
     "execution_count": 48,
     "metadata": {},
     "output_type": "execute_result"
    }
   ],
   "source": [
    "pd.Series(predictions_clf).value_counts()"
   ]
  },
  {
   "cell_type": "code",
   "execution_count": 49,
   "id": "42a6e560",
   "metadata": {},
   "outputs": [
    {
     "data": {
      "text/plain": [
       "array([[ 40,  27],\n",
       "       [ 14, 119]], dtype=int64)"
      ]
     },
     "execution_count": 49,
     "metadata": {},
     "output_type": "execute_result"
    }
   ],
   "source": [
    "# Condusion _matrix\n",
    "from sklearn.metrics import confusion_matrix\n",
    "confusion_matrix(y_test, predictions_clf)"
   ]
  },
  {
   "cell_type": "code",
   "execution_count": 50,
   "id": "36dd2e6e",
   "metadata": {},
   "outputs": [],
   "source": [
    "# predicted |T | F | \n",
    "# ---------------------\n",
    "# actual  T | 40 | 27 |  \n",
    "# ---------------------\n",
    "#         F | 14 | 119| \n",
    "# ---------------------\n"
   ]
  },
  {
   "cell_type": "code",
   "execution_count": 51,
   "id": "35c8ab9b",
   "metadata": {},
   "outputs": [
    {
     "data": {
      "text/plain": [
       "0.7407407407407407"
      ]
     },
     "execution_count": 51,
     "metadata": {},
     "output_type": "execute_result"
    }
   ],
   "source": [
    "# Calculate the precision of the model:\n",
    "\n",
    "# Precision = True Positive/(True Positive + False Positive)\n",
    "Precision = 40/(40 + 14)\n",
    "Precision"
   ]
  },
  {
   "cell_type": "code",
   "execution_count": 52,
   "id": "5736886f",
   "metadata": {},
   "outputs": [],
   "source": [
    "# For this model, I have choosen the multinomial ate the beggining, because it has more than one class envolved.\n",
    "# Prediction score was 0.72, however, the confusion matrix precision calculation (0,65) points out for much lower effectiveness of the model.\n",
    "# This model overlaps the real value counts of y.\n",
    "# I have also tried with the KNN classifier, which return a higher prediction score than before - 0,79. In this case we just see\n",
    "# that the true positives were overlaped. Overall a much better precision result of the confusion matrix (0,74).\n",
    "# I would might consider to balance other metrics and try to achieve better predictive results trought this model."
   ]
  }
 ],
 "metadata": {
  "kernelspec": {
   "display_name": "Python 3 (ipykernel)",
   "language": "python",
   "name": "python3"
  },
  "language_info": {
   "codemirror_mode": {
    "name": "ipython",
    "version": 3
   },
   "file_extension": ".py",
   "mimetype": "text/x-python",
   "name": "python",
   "nbconvert_exporter": "python",
   "pygments_lexer": "ipython3",
   "version": "3.9.12"
  }
 },
 "nbformat": 4,
 "nbformat_minor": 5
}
